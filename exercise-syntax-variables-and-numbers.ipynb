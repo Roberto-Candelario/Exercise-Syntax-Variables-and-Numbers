{
 "cells": [
  {
   "cell_type": "markdown",
   "id": "a927ed43",
   "metadata": {
    "papermill": {
     "duration": 0.00818,
     "end_time": "2022-07-27T17:39:05.299719",
     "exception": false,
     "start_time": "2022-07-27T17:39:05.291539",
     "status": "completed"
    },
    "tags": []
   },
   "source": [
    "**This notebook is an exercise in the [Python](https://www.kaggle.com/learn/python) course.  You can reference the tutorial at [this link](https://www.kaggle.com/colinmorris/hello-python).**\n",
    "\n",
    "---\n"
   ]
  },
  {
   "cell_type": "markdown",
   "id": "567d90cb",
   "metadata": {
    "papermill": {
     "duration": 0.006962,
     "end_time": "2022-07-27T17:39:05.313939",
     "exception": false,
     "start_time": "2022-07-27T17:39:05.306977",
     "status": "completed"
    },
    "tags": []
   },
   "source": [
    "Welcome to your first set of Python coding problems.  If this is your first time using Kaggle Notebooks, welcome! \n",
    "\n",
    "Notebooks are composed of blocks (called \"cells\") of text and code. Each of these is editable, though you'll mainly be editing the code cells to answer some questions.\n",
    "\n",
    "To get started, try running the code cell below (by pressing the ► button, or clicking on the cell and pressing ctrl+enter on your keyboard)."
   ]
  },
  {
   "cell_type": "code",
   "execution_count": 1,
   "id": "3d481ece",
   "metadata": {
    "execution": {
     "iopub.execute_input": "2022-07-27T17:39:05.331234Z",
     "iopub.status.busy": "2022-07-27T17:39:05.330658Z",
     "iopub.status.idle": "2022-07-27T17:39:05.344593Z",
     "shell.execute_reply": "2022-07-27T17:39:05.343388Z"
    },
    "papermill": {
     "duration": 0.026105,
     "end_time": "2022-07-27T17:39:05.347224",
     "exception": false,
     "start_time": "2022-07-27T17:39:05.321119",
     "status": "completed"
    },
    "tags": []
   },
   "outputs": [
    {
     "name": "stdout",
     "output_type": "stream",
     "text": [
      "You've successfully run some Python code\n",
      "Congratulations!\n"
     ]
    }
   ],
   "source": [
    "print(\"You've successfully run some Python code\")\n",
    "print(\"Congratulations!\")"
   ]
  },
  {
   "cell_type": "markdown",
   "id": "3f3be94d",
   "metadata": {
    "papermill": {
     "duration": 0.007717,
     "end_time": "2022-07-27T17:39:05.363304",
     "exception": false,
     "start_time": "2022-07-27T17:39:05.355587",
     "status": "completed"
    },
    "tags": []
   },
   "source": [
    "Try adding another line of code in the cell above and re-running it. \n",
    "\n",
    "Now let's get a little fancier:  Add a new code cell by clicking on an existing code cell, hitting the escape key, and then hitting the `a` or `b` key.  The `a` key will add a cell above the current cell, and `b` adds a cell below.\n",
    "\n",
    "Great! Now you know how to use Notebooks.\n",
    "\n",
    "Each hands-on exercise starts by setting up our feedback and code checking mechanism. Run the code cell below to do that. Then you'll be ready to move on to question 0."
   ]
  },
  {
   "cell_type": "code",
   "execution_count": 2,
   "id": "77bb65ab",
   "metadata": {
    "_kg_hide-input": true,
    "_kg_hide-output": true,
    "execution": {
     "iopub.execute_input": "2022-07-27T17:39:05.381150Z",
     "iopub.status.busy": "2022-07-27T17:39:05.380500Z",
     "iopub.status.idle": "2022-07-27T17:39:05.427607Z",
     "shell.execute_reply": "2022-07-27T17:39:05.426285Z"
    },
    "papermill": {
     "duration": 0.059504,
     "end_time": "2022-07-27T17:39:05.430381",
     "exception": false,
     "start_time": "2022-07-27T17:39:05.370877",
     "status": "completed"
    },
    "tags": []
   },
   "outputs": [
    {
     "name": "stdout",
     "output_type": "stream",
     "text": [
      "Setup complete! You're ready to start question 0.\n"
     ]
    }
   ],
   "source": [
    "from learntools.core import binder; binder.bind(globals())\n",
    "from learntools.python.ex1 import *\n",
    "print(\"Setup complete! You're ready to start question 0.\")"
   ]
  },
  {
   "cell_type": "markdown",
   "id": "4ac3b1b2",
   "metadata": {
    "papermill": {
     "duration": 0.007015,
     "end_time": "2022-07-27T17:39:05.444761",
     "exception": false,
     "start_time": "2022-07-27T17:39:05.437746",
     "status": "completed"
    },
    "tags": []
   },
   "source": [
    "# 0.\n",
    "\n",
    "*This is a silly question intended as an introduction to the format we use for hands-on exercises throughout all Kaggle courses.*\n",
    "\n",
    "**What is your favorite color? **\n",
    "\n",
    "To complete this question, create a variable called `color` in the cell below with an appropriate value. The function call `q0.check()` (which we've already provided in the cell below) will check your answer."
   ]
  },
  {
   "cell_type": "code",
   "execution_count": 3,
   "id": "ce4ae37e",
   "metadata": {
    "execution": {
     "iopub.execute_input": "2022-07-27T17:39:05.461452Z",
     "iopub.status.busy": "2022-07-27T17:39:05.461049Z",
     "iopub.status.idle": "2022-07-27T17:39:05.471286Z",
     "shell.execute_reply": "2022-07-27T17:39:05.470400Z"
    },
    "papermill": {
     "duration": 0.021142,
     "end_time": "2022-07-27T17:39:05.473254",
     "exception": false,
     "start_time": "2022-07-27T17:39:05.452112",
     "status": "completed"
    },
    "tags": []
   },
   "outputs": [
    {
     "data": {
      "application/javascript": [
       "parent.postMessage({\"jupyterEvent\": \"custom.exercise_interaction\", \"data\": {\"outcomeType\": 1, \"valueTowardsCompletion\": 0.25, \"interactionType\": 1, \"questionType\": 2, \"questionId\": \"0_ExerciseFormatTutorial\", \"learnToolsVersion\": \"0.3.4\", \"failureMessage\": \"\", \"exceptionClass\": \"\", \"trace\": \"\"}}, \"*\")"
      ],
      "text/plain": [
       "<IPython.core.display.Javascript object>"
      ]
     },
     "metadata": {},
     "output_type": "display_data"
    },
    {
     "data": {
      "text/markdown": [
       "<span style=\"color:#33cc33\">Correct:</span> What?! You got it right without needing a hint or anything? Drats. Well hey, you should still continue to the next step to get some practice asking for a hint and checking solutions. (Even though you obviously don't need any help here.)"
      ],
      "text/plain": [
       "Correct: What?! You got it right without needing a hint or anything? Drats. Well hey, you should still continue to the next step to get some practice asking for a hint and checking solutions. (Even though you obviously don't need any help here.)"
      ]
     },
     "metadata": {},
     "output_type": "display_data"
    }
   ],
   "source": [
    "# create a variable called color with an appropriate value on the line below\n",
    "# (Remember, strings in Python must be enclosed in 'single' or \"double\" quotes)\n",
    "color = 'blue'\n",
    "\n",
    "# Check your answer\n",
    "q0.check()"
   ]
  },
  {
   "cell_type": "markdown",
   "id": "13a86d72",
   "metadata": {
    "papermill": {
     "duration": 0.007393,
     "end_time": "2022-07-27T17:39:05.488235",
     "exception": false,
     "start_time": "2022-07-27T17:39:05.480842",
     "status": "completed"
    },
    "tags": []
   },
   "source": [
    "Didn't get the right answer? How do you not even know your own favorite color?!\n",
    "\n",
    "Delete the `#` in the line below to make one of the lines run. You can choose between getting a hint or the full answer by choosing which line to remove the `#` from. \n",
    "\n",
    "Removing the `#` is called uncommenting, because it changes that line from a \"comment\" which Python doesn't run to code, which Python does run."
   ]
  },
  {
   "cell_type": "code",
   "execution_count": 4,
   "id": "cfad7f2b",
   "metadata": {
    "execution": {
     "iopub.execute_input": "2022-07-27T17:39:05.505817Z",
     "iopub.status.busy": "2022-07-27T17:39:05.505095Z",
     "iopub.status.idle": "2022-07-27T17:39:05.509018Z",
     "shell.execute_reply": "2022-07-27T17:39:05.508130Z"
    },
    "papermill": {
     "duration": 0.01531,
     "end_time": "2022-07-27T17:39:05.511277",
     "exception": false,
     "start_time": "2022-07-27T17:39:05.495967",
     "status": "completed"
    },
    "tags": []
   },
   "outputs": [],
   "source": [
    "#q0.hint()\n",
    "#q0.solution()"
   ]
  },
  {
   "cell_type": "markdown",
   "id": "b0ea471d",
   "metadata": {
    "papermill": {
     "duration": 0.007856,
     "end_time": "2022-07-27T17:39:05.527040",
     "exception": false,
     "start_time": "2022-07-27T17:39:05.519184",
     "status": "completed"
    },
    "tags": []
   },
   "source": [
    "The upcoming questions work the same way. The only thing that will change are the question numbers. For the next question, you'll call `q1.check()`, `q1.hint()`, `q1.solution()`, for question 2, you'll call `q2.check()`, and so on."
   ]
  },
  {
   "cell_type": "markdown",
   "id": "dae28b69",
   "metadata": {
    "papermill": {
     "duration": 0.007529,
     "end_time": "2022-07-27T17:39:05.542395",
     "exception": false,
     "start_time": "2022-07-27T17:39:05.534866",
     "status": "completed"
    },
    "tags": []
   },
   "source": [
    "<hr/>\n",
    "\n",
    "# 1.\n",
    "\n",
    "Complete the code below. In case it's helpful, here is the table of available arithmetic operations:\n",
    "\n",
    "\n",
    "\n",
    "| Operator     | Name           | Description                                            |\n",
    "|--------------|----------------|--------------------------------------------------------|\n",
    "| ``a + b``    | Addition       | Sum of ``a`` and ``b``                                 |\n",
    "| ``a - b``    | Subtraction    | Difference of ``a`` and ``b``                          |\n",
    "| ``a * b``    | Multiplication | Product of ``a`` and ``b``                             |\n",
    "| ``a / b``    | True division  | Quotient of ``a`` and ``b``                            |\n",
    "| ``a // b``   | Floor division | Quotient of ``a`` and ``b``, removing fractional parts |\n",
    "| ``a % b``    | Modulus        | Integer remainder after division of ``a`` by ``b``     |\n",
    "| ``a ** b``   | Exponentiation | ``a`` raised to the power of ``b``                     |\n",
    "| ``-a``       | Negation       | The negative of ``a``                                  |\n",
    "\n",
    "<span style=\"display:none\"></span>\n"
   ]
  },
  {
   "cell_type": "code",
   "execution_count": 5,
   "id": "8c126dc0",
   "metadata": {
    "execution": {
     "iopub.execute_input": "2022-07-27T17:39:05.560173Z",
     "iopub.status.busy": "2022-07-27T17:39:05.559402Z",
     "iopub.status.idle": "2022-07-27T17:39:05.567663Z",
     "shell.execute_reply": "2022-07-27T17:39:05.566789Z"
    },
    "papermill": {
     "duration": 0.019631,
     "end_time": "2022-07-27T17:39:05.569810",
     "exception": false,
     "start_time": "2022-07-27T17:39:05.550179",
     "status": "completed"
    },
    "tags": []
   },
   "outputs": [
    {
     "data": {
      "application/javascript": [
       "parent.postMessage({\"jupyterEvent\": \"custom.exercise_interaction\", \"data\": {\"outcomeType\": 1, \"valueTowardsCompletion\": 0.25, \"interactionType\": 1, \"questionType\": 1, \"questionId\": \"1_CircleArea\", \"learnToolsVersion\": \"0.3.4\", \"failureMessage\": \"\", \"exceptionClass\": \"\", \"trace\": \"\"}}, \"*\")"
      ],
      "text/plain": [
       "<IPython.core.display.Javascript object>"
      ]
     },
     "metadata": {},
     "output_type": "display_data"
    },
    {
     "data": {
      "text/markdown": [
       "<span style=\"color:#33cc33\">Correct</span>"
      ],
      "text/plain": [
       "Correct"
      ]
     },
     "metadata": {},
     "output_type": "display_data"
    }
   ],
   "source": [
    "pi = 3.14159 # approximate\n",
    "diameter = 3\n",
    "\n",
    "# Create a variable called 'radius' equal to half the diameter\n",
    "radius = diameter / 2\n",
    "\n",
    "# Create a variable called 'area', using the formula for the area of a circle: pi times the radius squared\n",
    "area = pi * radius ** 2\n",
    "\n",
    "# Check your answer\n",
    "q1.check()"
   ]
  },
  {
   "cell_type": "code",
   "execution_count": 6,
   "id": "3314f078",
   "metadata": {
    "execution": {
     "iopub.execute_input": "2022-07-27T17:39:05.588727Z",
     "iopub.status.busy": "2022-07-27T17:39:05.588025Z",
     "iopub.status.idle": "2022-07-27T17:39:05.591888Z",
     "shell.execute_reply": "2022-07-27T17:39:05.591074Z"
    },
    "papermill": {
     "duration": 0.016203,
     "end_time": "2022-07-27T17:39:05.593955",
     "exception": false,
     "start_time": "2022-07-27T17:39:05.577752",
     "status": "completed"
    },
    "tags": []
   },
   "outputs": [],
   "source": [
    "# Uncomment and run the lines below if you need help.\n",
    "#q1.hint()\n",
    "#q1.solution()"
   ]
  },
  {
   "cell_type": "markdown",
   "id": "63f4110d",
   "metadata": {
    "papermill": {
     "duration": 0.00831,
     "end_time": "2022-07-27T17:39:05.610396",
     "exception": false,
     "start_time": "2022-07-27T17:39:05.602086",
     "status": "completed"
    },
    "tags": []
   },
   "source": [
    "<hr/>\n",
    "\n",
    "# 2.\n",
    "\n",
    "Add code to the following cell to swap variables `a` and `b` (so that `a` refers to the object previously referred to by `b` and vice versa)."
   ]
  },
  {
   "cell_type": "code",
   "execution_count": 7,
   "id": "d3671d87",
   "metadata": {
    "execution": {
     "iopub.execute_input": "2022-07-27T17:39:05.628574Z",
     "iopub.status.busy": "2022-07-27T17:39:05.627854Z",
     "iopub.status.idle": "2022-07-27T17:39:05.636440Z",
     "shell.execute_reply": "2022-07-27T17:39:05.635676Z"
    },
    "papermill": {
     "duration": 0.019929,
     "end_time": "2022-07-27T17:39:05.638377",
     "exception": false,
     "start_time": "2022-07-27T17:39:05.618448",
     "status": "completed"
    },
    "tags": []
   },
   "outputs": [
    {
     "data": {
      "application/javascript": [
       "parent.postMessage({\"jupyterEvent\": \"custom.exercise_interaction\", \"data\": {\"outcomeType\": 1, \"valueTowardsCompletion\": 0.25, \"interactionType\": 1, \"questionType\": 2, \"questionId\": \"2_VariableSwap\", \"learnToolsVersion\": \"0.3.4\", \"failureMessage\": \"\", \"exceptionClass\": \"\", \"trace\": \"\"}}, \"*\")"
      ],
      "text/plain": [
       "<IPython.core.display.Javascript object>"
      ]
     },
     "metadata": {},
     "output_type": "display_data"
    },
    {
     "data": {
      "text/markdown": [
       "<span style=\"color:#33cc33\">Correct:</span> \n",
       "\n",
       "The most straightforward solution is to use a third variable to temporarily store one of the old values. e.g.:\n",
       "\n",
       "    tmp = a\n",
       "    a = b\n",
       "    b = tmp\n",
       "\n",
       "If you've read lots of Python code, you might have seen the following trick to swap two variables in one line:\n",
       "\n",
       "    a, b = b, a\n",
       "\n",
       "We'll demystify this bit of Python magic later when we talk about *tuples*."
      ],
      "text/plain": [
       "Correct: \n",
       "\n",
       "The most straightforward solution is to use a third variable to temporarily store one of the old values. e.g.:\n",
       "\n",
       "    tmp = a\n",
       "    a = b\n",
       "    b = tmp\n",
       "\n",
       "If you've read lots of Python code, you might have seen the following trick to swap two variables in one line:\n",
       "\n",
       "    a, b = b, a\n",
       "\n",
       "We'll demystify this bit of Python magic later when we talk about *tuples*."
      ]
     },
     "metadata": {},
     "output_type": "display_data"
    }
   ],
   "source": [
    "########### Setup code - don't touch this part ######################\n",
    "# If you're curious, these are examples of lists. We'll talk about \n",
    "# them in depth a few lessons from now. For now, just know that they're\n",
    "# yet another type of Python object, like int or float.\n",
    "a = [1, 2, 3]\n",
    "b = [3, 2, 1]\n",
    "q2.store_original_ids()\n",
    "######################################################################\n",
    "\n",
    "# Your code goes here. Swap the values to which a and b refer.\n",
    "# If you get stuck, you can always uncomment one or both of the lines in\n",
    "# the next cell for a hint, or to peek at the solution.\n",
    "\n",
    "z = a \n",
    "y = b\n",
    "a = y\n",
    "b = z\n",
    "\n",
    "######################################################################\n",
    "\n",
    "# Check your answer\n",
    "q2.check()"
   ]
  },
  {
   "cell_type": "code",
   "execution_count": 8,
   "id": "26f55179",
   "metadata": {
    "execution": {
     "iopub.execute_input": "2022-07-27T17:39:05.656742Z",
     "iopub.status.busy": "2022-07-27T17:39:05.656084Z",
     "iopub.status.idle": "2022-07-27T17:39:05.659856Z",
     "shell.execute_reply": "2022-07-27T17:39:05.659204Z"
    },
    "papermill": {
     "duration": 0.01535,
     "end_time": "2022-07-27T17:39:05.661874",
     "exception": false,
     "start_time": "2022-07-27T17:39:05.646524",
     "status": "completed"
    },
    "tags": []
   },
   "outputs": [],
   "source": [
    "#q2.hint()"
   ]
  },
  {
   "cell_type": "code",
   "execution_count": 9,
   "id": "ef26591f",
   "metadata": {
    "execution": {
     "iopub.execute_input": "2022-07-27T17:39:05.680902Z",
     "iopub.status.busy": "2022-07-27T17:39:05.680239Z",
     "iopub.status.idle": "2022-07-27T17:39:05.684099Z",
     "shell.execute_reply": "2022-07-27T17:39:05.683166Z"
    },
    "papermill": {
     "duration": 0.015658,
     "end_time": "2022-07-27T17:39:05.686151",
     "exception": false,
     "start_time": "2022-07-27T17:39:05.670493",
     "status": "completed"
    },
    "tags": []
   },
   "outputs": [],
   "source": [
    "#q2.solution()"
   ]
  },
  {
   "cell_type": "markdown",
   "id": "f871a49d",
   "metadata": {
    "papermill": {
     "duration": 0.008379,
     "end_time": "2022-07-27T17:39:05.703027",
     "exception": false,
     "start_time": "2022-07-27T17:39:05.694648",
     "status": "completed"
    },
    "tags": []
   },
   "source": [
    "<hr/>\n",
    "\n",
    "# 3a.\n",
    "\n",
    "Add parentheses to the following expression so that it evaluates to 1."
   ]
  },
  {
   "cell_type": "code",
   "execution_count": 10,
   "id": "6a942940",
   "metadata": {
    "execution": {
     "iopub.execute_input": "2022-07-27T17:39:05.722076Z",
     "iopub.status.busy": "2022-07-27T17:39:05.721412Z",
     "iopub.status.idle": "2022-07-27T17:39:05.726892Z",
     "shell.execute_reply": "2022-07-27T17:39:05.726222Z"
    },
    "papermill": {
     "duration": 0.017412,
     "end_time": "2022-07-27T17:39:05.728966",
     "exception": false,
     "start_time": "2022-07-27T17:39:05.711554",
     "status": "completed"
    },
    "tags": []
   },
   "outputs": [
    {
     "data": {
      "text/plain": [
       "1"
      ]
     },
     "execution_count": 10,
     "metadata": {},
     "output_type": "execute_result"
    }
   ],
   "source": [
    "(5 - 3) // 2"
   ]
  },
  {
   "cell_type": "code",
   "execution_count": 11,
   "id": "aeb22f8d",
   "metadata": {
    "execution": {
     "iopub.execute_input": "2022-07-27T17:39:05.748002Z",
     "iopub.status.busy": "2022-07-27T17:39:05.747276Z",
     "iopub.status.idle": "2022-07-27T17:39:05.751705Z",
     "shell.execute_reply": "2022-07-27T17:39:05.750895Z"
    },
    "papermill": {
     "duration": 0.016472,
     "end_time": "2022-07-27T17:39:05.753940",
     "exception": false,
     "start_time": "2022-07-27T17:39:05.737468",
     "status": "completed"
    },
    "tags": []
   },
   "outputs": [],
   "source": [
    "#q3.a.hint()"
   ]
  },
  {
   "cell_type": "code",
   "execution_count": 12,
   "id": "a2ac7d21",
   "metadata": {
    "execution": {
     "iopub.execute_input": "2022-07-27T17:39:05.773633Z",
     "iopub.status.busy": "2022-07-27T17:39:05.772865Z",
     "iopub.status.idle": "2022-07-27T17:39:05.780479Z",
     "shell.execute_reply": "2022-07-27T17:39:05.779678Z"
    },
    "papermill": {
     "duration": 0.019897,
     "end_time": "2022-07-27T17:39:05.782537",
     "exception": false,
     "start_time": "2022-07-27T17:39:05.762640",
     "status": "completed"
    },
    "tags": []
   },
   "outputs": [
    {
     "data": {
      "application/javascript": [
       "parent.postMessage({\"jupyterEvent\": \"custom.exercise_interaction\", \"data\": {\"interactionType\": 3, \"questionType\": 4, \"questionId\": \"3.1_ArithmeticParensEasy\", \"learnToolsVersion\": \"0.3.4\", \"valueTowardsCompletion\": 0.0, \"failureMessage\": \"\", \"exceptionClass\": \"\", \"trace\": \"\", \"outcomeType\": 4}}, \"*\")"
      ],
      "text/plain": [
       "<IPython.core.display.Javascript object>"
      ]
     },
     "metadata": {},
     "output_type": "display_data"
    },
    {
     "data": {
      "text/markdown": [
       "<span style=\"color:#33cc99\">Solution:</span> \n",
       "```python\n",
       "(5 - 3) // 2\n",
       "```"
      ],
      "text/plain": [
       "Solution: \n",
       "```python\n",
       "(5 - 3) // 2\n",
       "```"
      ]
     },
     "metadata": {},
     "output_type": "display_data"
    }
   ],
   "source": [
    "# Check your answer (Run this code cell to receive credit!)\n",
    "q3.a.solution()"
   ]
  },
  {
   "cell_type": "markdown",
   "id": "83d57bce",
   "metadata": {
    "papermill": {
     "duration": 0.008498,
     "end_time": "2022-07-27T17:39:05.799860",
     "exception": false,
     "start_time": "2022-07-27T17:39:05.791362",
     "status": "completed"
    },
    "tags": []
   },
   "source": [
    "# 3b.  <span title=\"A bit spicy\" style=\"color: darkgreen \">🌶️</span>\n",
    "\n",
    "<small>Questions, like this one, marked a spicy pepper are a bit harder.</small>\n",
    "\n",
    "Add parentheses to the following expression so that it evaluates to 0."
   ]
  },
  {
   "cell_type": "code",
   "execution_count": 13,
   "id": "79be2188",
   "metadata": {
    "execution": {
     "iopub.execute_input": "2022-07-27T17:39:05.819369Z",
     "iopub.status.busy": "2022-07-27T17:39:05.818658Z",
     "iopub.status.idle": "2022-07-27T17:39:05.824457Z",
     "shell.execute_reply": "2022-07-27T17:39:05.823605Z"
    },
    "papermill": {
     "duration": 0.018006,
     "end_time": "2022-07-27T17:39:05.826586",
     "exception": false,
     "start_time": "2022-07-27T17:39:05.808580",
     "status": "completed"
    },
    "tags": []
   },
   "outputs": [
    {
     "data": {
      "text/plain": [
       "0"
      ]
     },
     "execution_count": 13,
     "metadata": {},
     "output_type": "execute_result"
    }
   ],
   "source": [
    "8 - 3 * 2 - (1 + 1)"
   ]
  },
  {
   "cell_type": "code",
   "execution_count": 14,
   "id": "762294a4",
   "metadata": {
    "execution": {
     "iopub.execute_input": "2022-07-27T17:39:05.846671Z",
     "iopub.status.busy": "2022-07-27T17:39:05.845932Z",
     "iopub.status.idle": "2022-07-27T17:39:05.850076Z",
     "shell.execute_reply": "2022-07-27T17:39:05.849254Z"
    },
    "papermill": {
     "duration": 0.016715,
     "end_time": "2022-07-27T17:39:05.852420",
     "exception": false,
     "start_time": "2022-07-27T17:39:05.835705",
     "status": "completed"
    },
    "tags": []
   },
   "outputs": [],
   "source": [
    "#q3.b.hint()"
   ]
  },
  {
   "cell_type": "code",
   "execution_count": 15,
   "id": "027db9b4",
   "metadata": {
    "execution": {
     "iopub.execute_input": "2022-07-27T17:39:05.873054Z",
     "iopub.status.busy": "2022-07-27T17:39:05.872678Z",
     "iopub.status.idle": "2022-07-27T17:39:05.881773Z",
     "shell.execute_reply": "2022-07-27T17:39:05.880542Z"
    },
    "papermill": {
     "duration": 0.022599,
     "end_time": "2022-07-27T17:39:05.884262",
     "exception": false,
     "start_time": "2022-07-27T17:39:05.861663",
     "status": "completed"
    },
    "tags": []
   },
   "outputs": [
    {
     "data": {
      "application/javascript": [
       "parent.postMessage({\"jupyterEvent\": \"custom.exercise_interaction\", \"data\": {\"interactionType\": 3, \"questionType\": 4, \"questionId\": \"3.2_ArithmeticParensHard\", \"learnToolsVersion\": \"0.3.4\", \"valueTowardsCompletion\": 0.0, \"failureMessage\": \"\", \"exceptionClass\": \"\", \"trace\": \"\", \"outcomeType\": 4}}, \"*\")"
      ],
      "text/plain": [
       "<IPython.core.display.Javascript object>"
      ]
     },
     "metadata": {},
     "output_type": "display_data"
    },
    {
     "data": {
      "text/markdown": [
       "<span style=\"color:#33cc99\">Solution:</span> `(8 - 3) * (2 - (1 + 1))` is one solution. There may be others."
      ],
      "text/plain": [
       "Solution: `(8 - 3) * (2 - (1 + 1))` is one solution. There may be others."
      ]
     },
     "metadata": {},
     "output_type": "display_data"
    }
   ],
   "source": [
    "# Check your answer (Run this code cell to receive credit!)\n",
    "q3.b.solution()"
   ]
  },
  {
   "cell_type": "markdown",
   "id": "9a0d9108",
   "metadata": {
    "papermill": {
     "duration": 0.008993,
     "end_time": "2022-07-27T17:39:05.902656",
     "exception": false,
     "start_time": "2022-07-27T17:39:05.893663",
     "status": "completed"
    },
    "tags": []
   },
   "source": [
    "<hr/>\n",
    "\n",
    "# 4. \n",
    "Alice, Bob and Carol have agreed to pool their Halloween candy and split it evenly among themselves.\n",
    "For the sake of their friendship, any candies left over will be smashed. For example, if they collectively\n",
    "bring home 91 candies, they'll take 30 each and smash 1.\n",
    "\n",
    "Write an arithmetic expression below to calculate how many candies they must smash for a given haul."
   ]
  },
  {
   "cell_type": "code",
   "execution_count": 16,
   "id": "809da099",
   "metadata": {
    "execution": {
     "iopub.execute_input": "2022-07-27T17:39:05.923888Z",
     "iopub.status.busy": "2022-07-27T17:39:05.923464Z",
     "iopub.status.idle": "2022-07-27T17:39:05.934493Z",
     "shell.execute_reply": "2022-07-27T17:39:05.933269Z"
    },
    "papermill": {
     "duration": 0.024146,
     "end_time": "2022-07-27T17:39:05.936841",
     "exception": false,
     "start_time": "2022-07-27T17:39:05.912695",
     "status": "completed"
    },
    "tags": []
   },
   "outputs": [
    {
     "data": {
      "application/javascript": [
       "parent.postMessage({\"jupyterEvent\": \"custom.exercise_interaction\", \"data\": {\"outcomeType\": 1, \"valueTowardsCompletion\": 0.25, \"interactionType\": 1, \"questionType\": 1, \"questionId\": \"4_CandySplitting\", \"learnToolsVersion\": \"0.3.4\", \"failureMessage\": \"\", \"exceptionClass\": \"\", \"trace\": \"\"}}, \"*\")"
      ],
      "text/plain": [
       "<IPython.core.display.Javascript object>"
      ]
     },
     "metadata": {},
     "output_type": "display_data"
    },
    {
     "data": {
      "text/markdown": [
       "<span style=\"color:#33cc33\">Correct</span>"
      ],
      "text/plain": [
       "Correct"
      ]
     },
     "metadata": {},
     "output_type": "display_data"
    }
   ],
   "source": [
    "# Variables representing the number of candies collected by alice, bob, and carol\n",
    "alice_candies = 121\n",
    "bob_candies = 77\n",
    "carol_candies = 109\n",
    "\n",
    "# Your code goes here! Replace the right-hand side of this assignment with an expression\n",
    "# involving alice_candies, bob_candies, and carol_candies\n",
    "total = alice_candies + bob_candies + carol_candies\n",
    "to_smash = total % 3\n",
    "\n",
    "# Check your answer\n",
    "q4.check()"
   ]
  },
  {
   "cell_type": "code",
   "execution_count": 17,
   "id": "39b33e74",
   "metadata": {
    "execution": {
     "iopub.execute_input": "2022-07-27T17:39:05.958174Z",
     "iopub.status.busy": "2022-07-27T17:39:05.957806Z",
     "iopub.status.idle": "2022-07-27T17:39:05.961641Z",
     "shell.execute_reply": "2022-07-27T17:39:05.960554Z"
    },
    "papermill": {
     "duration": 0.01731,
     "end_time": "2022-07-27T17:39:05.963832",
     "exception": false,
     "start_time": "2022-07-27T17:39:05.946522",
     "status": "completed"
    },
    "tags": []
   },
   "outputs": [],
   "source": [
    "#q4.hint()\n",
    "#q4.solution()"
   ]
  },
  {
   "cell_type": "markdown",
   "id": "4b3e4ea6",
   "metadata": {
    "papermill": {
     "duration": 0.009373,
     "end_time": "2022-07-27T17:39:05.982881",
     "exception": false,
     "start_time": "2022-07-27T17:39:05.973508",
     "status": "completed"
    },
    "tags": []
   },
   "source": [
    "# Keep Going\n",
    "\n",
    "Next up, you'll **[learn to write new functions and understand functions others write](https://www.kaggle.com/colinmorris/functions-and-getting-help)**. This will make you at least 10 times more productive as a Python programmer. "
   ]
  },
  {
   "cell_type": "markdown",
   "id": "605b4dd5",
   "metadata": {
    "papermill": {
     "duration": 0.009281,
     "end_time": "2022-07-27T17:39:06.001795",
     "exception": false,
     "start_time": "2022-07-27T17:39:05.992514",
     "status": "completed"
    },
    "tags": []
   },
   "source": [
    "---\n",
    "\n",
    "\n",
    "\n",
    "\n",
    "*Have questions or comments? Visit the [course discussion forum](https://www.kaggle.com/learn/python/discussion) to chat with other learners.*"
   ]
  }
 ],
 "metadata": {
  "kernelspec": {
   "display_name": "Python 3",
   "language": "python",
   "name": "python3"
  },
  "language_info": {
   "codemirror_mode": {
    "name": "ipython",
    "version": 3
   },
   "file_extension": ".py",
   "mimetype": "text/x-python",
   "name": "python",
   "nbconvert_exporter": "python",
   "pygments_lexer": "ipython3",
   "version": "3.7.12"
  },
  "papermill": {
   "default_parameters": {},
   "duration": 11.911347,
   "end_time": "2022-07-27T17:39:06.634334",
   "environment_variables": {},
   "exception": null,
   "input_path": "__notebook__.ipynb",
   "output_path": "__notebook__.ipynb",
   "parameters": {},
   "start_time": "2022-07-27T17:38:54.722987",
   "version": "2.3.4"
  }
 },
 "nbformat": 4,
 "nbformat_minor": 5
}
